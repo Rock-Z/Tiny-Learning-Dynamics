{
 "cells": [
  {
   "cell_type": "code",
   "execution_count": 9,
   "metadata": {},
   "outputs": [],
   "source": [
    "from openai import OpenAI\n",
    "import pickle\n",
    "key = ...\n",
    "client = OpenAI(api_key=key)"
   ]
  },
  {
   "cell_type": "code",
   "execution_count": 10,
   "metadata": {},
   "outputs": [],
   "source": [
    "path = ...\n",
    "with open(path, 'rb') as r:\n",
    "    r.seek(0)\n",
    "    prompts = pickle.load(r)"
   ]
  },
  {
   "cell_type": "code",
   "execution_count": null,
   "metadata": {},
   "outputs": [],
   "source": [
    "def complete(prompt:str) -> str:\n",
    "    completion = client.chat.completions.create(\n",
    "        model=\"gpt-4o-mini\",\n",
    "        messages=[\n",
    "            {\n",
    "                \"role\": \"user\",\n",
    "                \"content\": prompt\n",
    "            }\n",
    "        ]\n",
    "    )\n",
    "    return completion.choices[0].message.content"
   ]
  },
  {
   "cell_type": "code",
   "execution_count": 31,
   "metadata": {},
   "outputs": [],
   "source": [
    "testout = list()\n",
    "\n",
    "for i in range(100):\n",
    "    testout.append(complete(prompts[i]))"
   ]
  },
  {
   "cell_type": "code",
   "execution_count": 34,
   "metadata": {},
   "outputs": [
    {
     "name": "stdout",
     "output_type": "stream",
     "text": [
      "Once upon a time, in a small town, there lived a nice man named Tim. Tim liked to walk near the big line of trees. The trees were tall and green. They made a lot of noise when the wind blew. Tim liked to listen to the noisy trees.\n",
      "\n",
      "One sunny day, Tim saw a pretty girl named Sue. Sue wore a yellow dress and a big smile. Tim thought Sue was very nice. He wanted to tell her how he felt. So, Tim took a deep breath and said, “Will you marry me?” Sue's eyes sparkled with joy, and she said, “Yes!”\n",
      "\n",
      "Tim was very happy. He danced around the noisy trees, and the birds sang with him. He could not stop smiling. He knew they would be happy together. Tim and Sue held hands and walked home.\n",
      "\n",
      "From that day on, Tim and Sue were a team. They played by the line of trees and listened to the windy songs. They loved each other very much, and it made their hearts feel warm. Tim was glad he asked Sue to marry him!\n"
     ]
    }
   ],
   "source": [
    "print(testout[0].content)"
   ]
  },
  {
   "cell_type": "code",
   "execution_count": 45,
   "metadata": {},
   "outputs": [
    {
     "data": {
      "text/plain": [
       "'{\"custom_id\": \"request-1\", \"method\": \"POST\", \"url\": \"/v1/chat/completions\", \"body\": {\"model\": \"gpt-4o-mini\", \"messages\": [{\"role\": \"user\", \"content\": \"Write a short story (3-5 paragraphs) which only uses very simple words that a 3 year old child would understand. The story should use the verb \\\\\"joke\\\\\", the noun \\\\\"bookshelf\\\\\", the adjective \\\\\"guilty\\\\\", and the pronoun \\\\\"himself\\\\\". Remember to only use simple words!\\\\n\"}]}}'"
      ]
     },
     "execution_count": 45,
     "metadata": {},
     "output_type": "execute_result"
    }
   ],
   "source": [
    "import json\n",
    "\n",
    "request = {\n",
    "    \"custom_id\": \"request-1\", \n",
    "    \"method\": \"POST\", \n",
    "    \"url\": \"/v1/chat/completions\", \n",
    "    \"body\": {\n",
    "        \"model\": \"gpt-4o-mini\", \n",
    "        \"messages\": [\n",
    "            {\n",
    "                \"role\": \"user\", \n",
    "                \"content\": prompts[0]\n",
    "            }\n",
    "        ]\n",
    "    }\n",
    "}\n",
    "\n",
    "json_object = json.dumps(request)\n",
    "\n",
    "json_object"
   ]
  },
  {
   "cell_type": "code",
   "execution_count": 46,
   "metadata": {},
   "outputs": [],
   "source": [
    "requests = list()\n",
    "for i in range(len(prompts)):\n",
    "    requests.append ({\n",
    "        \"custom_id\": f\"request-{i}\", \n",
    "        \"method\": \"POST\", \n",
    "        \"url\": \"/v1/chat/completions\", \n",
    "        \"body\": {\n",
    "            \"model\": \"gpt-4o-mini\", \n",
    "            \"messages\": [\n",
    "                {\n",
    "                    \"role\": \"user\", \n",
    "                    \"content\": prompts[i]\n",
    "                }\n",
    "            ]\n",
    "        }\n",
    "    })"
   ]
  },
  {
   "cell_type": "code",
   "execution_count": 54,
   "metadata": {},
   "outputs": [],
   "source": [
    "import jsonlines\n",
    "\n",
    "with jsonlines.open('batch.jsonl', mode='w') as f:\n",
    "    f.write_all(requests)"
   ]
  }
 ],
 "metadata": {
  "kernelspec": {
   "display_name": "LING380Final",
   "language": "python",
   "name": "python3"
  },
  "language_info": {
   "codemirror_mode": {
    "name": "ipython",
    "version": 3
   },
   "file_extension": ".py",
   "mimetype": "text/x-python",
   "name": "python",
   "nbconvert_exporter": "python",
   "pygments_lexer": "ipython3",
   "version": "3.11.10"
  }
 },
 "nbformat": 4,
 "nbformat_minor": 2
}
