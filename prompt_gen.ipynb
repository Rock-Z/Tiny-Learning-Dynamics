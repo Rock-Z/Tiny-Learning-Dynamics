{
 "cells": [
  {
   "cell_type": "markdown",
   "metadata": {},
   "source": [
    "# Extended Prompt Generation Following TinyStories"
   ]
  },
  {
   "cell_type": "code",
   "execution_count": null,
   "metadata": {},
   "outputs": [],
   "source": [
    "# Import packages\n",
    "import json\n",
    "import typing\n",
    "import random"
   ]
  },
  {
   "cell_type": "code",
   "execution_count": null,
   "metadata": {},
   "outputs": [],
   "source": [
    "# Set file paths\n",
    "jsonpath = ... # Insert path to one of the JSON files with prompts and info.\n",
    "writepath = './more_prompts.txt'"
   ]
  },
  {
   "cell_type": "code",
   "execution_count": null,
   "metadata": {},
   "outputs": [],
   "source": [
    "# Load the JSON\n",
    "with open(jsonpath, 'r') as f:\n",
    "    d = json.load(f)"
   ]
  },
  {
   "cell_type": "code",
   "execution_count": null,
   "metadata": {},
   "outputs": [],
   "source": [
    "# Extract the words\n",
    "wordlist = list(map(lambda x: x.get('instruction').get('words'), d))"
   ]
  },
  {
   "cell_type": "code",
   "execution_count": null,
   "metadata": {},
   "outputs": [],
   "source": [
    "# Create the vocabulary lists\n",
    "verbset = set()\n",
    "nounset = set()\n",
    "adjset = set()\n",
    "anaphors = ['herself', 'themself', 'himself', 'themselves']\n",
    "for i in wordlist:\n",
    "    verbset.add(i[0])\n",
    "    nounset.add(i[1])\n",
    "    adjset.add(i[2])"
   ]
  },
  {
   "cell_type": "code",
   "execution_count": null,
   "metadata": {},
   "outputs": [],
   "source": [
    "# Prompt-generation function\n",
    "def newPrompt(anaphor:bool = False, npi:bool = False) -> str:\n",
    "    verb = random.choice(verbset)\n",
    "    adj = random.choice(adjset)\n",
    "    noun = random.choice(nounset)\n",
    "    anaphor = random.choice(anaphors)\n",
    "    if (anaphor is True) & (npi is False):\n",
    "        return f'Write a short story (3-5 paragraphs) which only uses very simple words that a 3 year old child would understand. The story should use the verb \"{verb}\", the noun \"{noun}\", the adjective \"{adj}\", and the pronoun \"{anaphor}\". Remember to only use simple words!'\n",
    "    elif (anaphor is False) & (npi is True):\n",
    "        return f'Write a short story (3-5 paragraphs) which only uses very simple words that a 3 year old child would understand. The story should use the verb \"{verb}\", the noun \"{noun}\", the adjective \"{adj}\", and the word \"ever\". Remember to only use simple words!'\n",
    "    else:\n",
    "        return f'Write a short story (3-5 paragraphs) which only uses very simple words that a 3 year old child would understand. The story should use the verb \"{verb}\", the noun \"{noun}\", the adjective \"{adj}\", the pronoun \"{anaphor}\", and the word \"ever\". Remember to only use simple words!'"
   ]
  },
  {
   "cell_type": "code",
   "execution_count": null,
   "metadata": {},
   "outputs": [
    {
     "data": {
      "text/plain": [
       "'Write a short story (3-5 paragraphs) which only uses very simple words that a 3 year old child would understand. The story should use the verb \"measure\", the noun \"dictionary\", the adjective \"creative\", the pronoun \"herself\", and the word \"ever\". Remember to only use simple words!'"
      ]
     },
     "execution_count": 76,
     "metadata": {},
     "output_type": "execute_result"
    }
   ],
   "source": [
    "# Testing the prompt generation\n",
    "newPrompt(True, True)"
   ]
  },
  {
   "cell_type": "code",
   "execution_count": 82,
   "metadata": {},
   "outputs": [],
   "source": [
    "# Generate and write the prompts to a file\n",
    "with open(writepath, 'w') as f:\n",
    "    for _ in range(8000):\n",
    "        f.write(newPrompt(True, False) + '\\n')\n",
    "    for _ in range(8000):\n",
    "        f.write(newPrompt(False, True) + '\\n')\n",
    "    for _ in range(8000):\n",
    "        f.write(newPrompt(True, True) + '\\n')"
   ]
  }
 ],
 "metadata": {
  "kernelspec": {
   "display_name": "iML",
   "language": "python",
   "name": "python3"
  },
  "language_info": {
   "codemirror_mode": {
    "name": "ipython",
    "version": 3
   },
   "file_extension": ".py",
   "mimetype": "text/x-python",
   "name": "python",
   "nbconvert_exporter": "python",
   "pygments_lexer": "ipython3",
   "version": "3.8.18"
  }
 },
 "nbformat": 4,
 "nbformat_minor": 2
}
